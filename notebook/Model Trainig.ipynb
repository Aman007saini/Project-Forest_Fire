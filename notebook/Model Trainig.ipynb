{
 "cells": [
  {
   "cell_type": "code",
   "execution_count": 1,
   "id": "2cd43a1f-cacf-4afa-98fb-0b88cc7edcf2",
   "metadata": {},
   "outputs": [],
   "source": [
    "import pandas as pd\n",
    "import numpy as np\n",
    "import seaborn as sns\n",
    "import matplotlib.pyplot as plt\n",
    "%matplotlib inline"
   ]
  },
  {
   "cell_type": "code",
   "execution_count": 2,
   "id": "cdf85b75-0671-4197-b42f-c7403121fa79",
   "metadata": {},
   "outputs": [],
   "source": [
    "df=pd.read_csv('forest_fire_cleaned_dataset.csv')"
   ]
  },
  {
   "cell_type": "code",
   "execution_count": 3,
   "id": "927a65c5-6783-48df-9ba6-f8ab75e728eb",
   "metadata": {},
   "outputs": [
    {
     "data": {
      "text/html": [
       "<div>\n",
       "<style scoped>\n",
       "    .dataframe tbody tr th:only-of-type {\n",
       "        vertical-align: middle;\n",
       "    }\n",
       "\n",
       "    .dataframe tbody tr th {\n",
       "        vertical-align: top;\n",
       "    }\n",
       "\n",
       "    .dataframe thead th {\n",
       "        text-align: right;\n",
       "    }\n",
       "</style>\n",
       "<table border=\"1\" class=\"dataframe\">\n",
       "  <thead>\n",
       "    <tr style=\"text-align: right;\">\n",
       "      <th></th>\n",
       "      <th>day</th>\n",
       "      <th>month</th>\n",
       "      <th>year</th>\n",
       "      <th>Temperature</th>\n",
       "      <th>RH</th>\n",
       "      <th>Ws</th>\n",
       "      <th>Rain</th>\n",
       "      <th>FFMC</th>\n",
       "      <th>DMC</th>\n",
       "      <th>DC</th>\n",
       "      <th>ISI</th>\n",
       "      <th>BUI</th>\n",
       "      <th>FWI</th>\n",
       "      <th>Classes</th>\n",
       "      <th>Region</th>\n",
       "    </tr>\n",
       "  </thead>\n",
       "  <tbody>\n",
       "    <tr>\n",
       "      <th>0</th>\n",
       "      <td>2</td>\n",
       "      <td>6</td>\n",
       "      <td>2012</td>\n",
       "      <td>29</td>\n",
       "      <td>61</td>\n",
       "      <td>13</td>\n",
       "      <td>1.3</td>\n",
       "      <td>64.4</td>\n",
       "      <td>4.1</td>\n",
       "      <td>7.6</td>\n",
       "      <td>1.0</td>\n",
       "      <td>3.9</td>\n",
       "      <td>0.4</td>\n",
       "      <td>not fire</td>\n",
       "      <td>0</td>\n",
       "    </tr>\n",
       "    <tr>\n",
       "      <th>1</th>\n",
       "      <td>3</td>\n",
       "      <td>6</td>\n",
       "      <td>2012</td>\n",
       "      <td>26</td>\n",
       "      <td>82</td>\n",
       "      <td>22</td>\n",
       "      <td>13.1</td>\n",
       "      <td>47.1</td>\n",
       "      <td>2.5</td>\n",
       "      <td>7.1</td>\n",
       "      <td>0.3</td>\n",
       "      <td>2.7</td>\n",
       "      <td>0.1</td>\n",
       "      <td>not fire</td>\n",
       "      <td>0</td>\n",
       "    </tr>\n",
       "    <tr>\n",
       "      <th>2</th>\n",
       "      <td>4</td>\n",
       "      <td>6</td>\n",
       "      <td>2012</td>\n",
       "      <td>25</td>\n",
       "      <td>89</td>\n",
       "      <td>13</td>\n",
       "      <td>2.5</td>\n",
       "      <td>28.6</td>\n",
       "      <td>1.3</td>\n",
       "      <td>6.9</td>\n",
       "      <td>0.0</td>\n",
       "      <td>1.7</td>\n",
       "      <td>0.0</td>\n",
       "      <td>not fire</td>\n",
       "      <td>0</td>\n",
       "    </tr>\n",
       "    <tr>\n",
       "      <th>3</th>\n",
       "      <td>5</td>\n",
       "      <td>6</td>\n",
       "      <td>2012</td>\n",
       "      <td>27</td>\n",
       "      <td>77</td>\n",
       "      <td>16</td>\n",
       "      <td>0.0</td>\n",
       "      <td>64.8</td>\n",
       "      <td>3.0</td>\n",
       "      <td>14.2</td>\n",
       "      <td>1.2</td>\n",
       "      <td>3.9</td>\n",
       "      <td>0.5</td>\n",
       "      <td>not fire</td>\n",
       "      <td>0</td>\n",
       "    </tr>\n",
       "    <tr>\n",
       "      <th>4</th>\n",
       "      <td>6</td>\n",
       "      <td>6</td>\n",
       "      <td>2012</td>\n",
       "      <td>31</td>\n",
       "      <td>67</td>\n",
       "      <td>14</td>\n",
       "      <td>0.0</td>\n",
       "      <td>82.6</td>\n",
       "      <td>5.8</td>\n",
       "      <td>22.2</td>\n",
       "      <td>3.1</td>\n",
       "      <td>7.0</td>\n",
       "      <td>2.5</td>\n",
       "      <td>fire</td>\n",
       "      <td>0</td>\n",
       "    </tr>\n",
       "  </tbody>\n",
       "</table>\n",
       "</div>"
      ],
      "text/plain": [
       "   day  month  year  Temperature  RH  Ws  Rain  FFMC  DMC    DC  ISI  BUI  \\\n",
       "0    2      6  2012           29  61  13   1.3  64.4  4.1   7.6  1.0  3.9   \n",
       "1    3      6  2012           26  82  22  13.1  47.1  2.5   7.1  0.3  2.7   \n",
       "2    4      6  2012           25  89  13   2.5  28.6  1.3   6.9  0.0  1.7   \n",
       "3    5      6  2012           27  77  16   0.0  64.8  3.0  14.2  1.2  3.9   \n",
       "4    6      6  2012           31  67  14   0.0  82.6  5.8  22.2  3.1  7.0   \n",
       "\n",
       "   FWI   Classes  Region  \n",
       "0  0.4  not fire       0  \n",
       "1  0.1  not fire       0  \n",
       "2  0.0  not fire       0  \n",
       "3  0.5  not fire       0  \n",
       "4  2.5      fire       0  "
      ]
     },
     "execution_count": 3,
     "metadata": {},
     "output_type": "execute_result"
    }
   ],
   "source": [
    "df.head()"
   ]
  },
  {
   "cell_type": "code",
   "execution_count": 4,
   "id": "a3781f1f-b74f-41ba-a4b3-9432c5f3e323",
   "metadata": {},
   "outputs": [
    {
     "data": {
      "text/plain": [
       "Index(['day', 'month', 'year', 'Temperature', 'RH', 'Ws', 'Rain', 'FFMC',\n",
       "       'DMC', 'DC', 'ISI', 'BUI', 'FWI', 'Classes', 'Region'],\n",
       "      dtype='object')"
      ]
     },
     "execution_count": 4,
     "metadata": {},
     "output_type": "execute_result"
    }
   ],
   "source": [
    "df.columns"
   ]
  },
  {
   "cell_type": "code",
   "execution_count": 5,
   "id": "fa3cbfc1-218d-4284-ba66-84bc787e12c6",
   "metadata": {},
   "outputs": [],
   "source": [
    "df.drop(['day','month','year'],axis=1,inplace=True)"
   ]
  },
  {
   "cell_type": "code",
   "execution_count": 6,
   "id": "abc704a5-7278-49e4-9d25-3bc73c34be19",
   "metadata": {},
   "outputs": [
    {
     "data": {
      "text/plain": [
       "fire        137\n",
       "not fire    105\n",
       "Name: Classes, dtype: int64"
      ]
     },
     "execution_count": 6,
     "metadata": {},
     "output_type": "execute_result"
    }
   ],
   "source": [
    "df['Classes'].value_counts()"
   ]
  },
  {
   "cell_type": "code",
   "execution_count": 7,
   "id": "40e50414-aad2-4fb0-b120-de09be82c151",
   "metadata": {},
   "outputs": [],
   "source": [
    "# Data Encoding\n",
    "df['Classes']= np.where(df['Classes'].str.contains('not fire'),0,1)"
   ]
  },
  {
   "cell_type": "code",
   "execution_count": 8,
   "id": "f4a24331-e851-401d-befb-c45c29c9c3c1",
   "metadata": {},
   "outputs": [
    {
     "data": {
      "text/html": [
       "<div>\n",
       "<style scoped>\n",
       "    .dataframe tbody tr th:only-of-type {\n",
       "        vertical-align: middle;\n",
       "    }\n",
       "\n",
       "    .dataframe tbody tr th {\n",
       "        vertical-align: top;\n",
       "    }\n",
       "\n",
       "    .dataframe thead th {\n",
       "        text-align: right;\n",
       "    }\n",
       "</style>\n",
       "<table border=\"1\" class=\"dataframe\">\n",
       "  <thead>\n",
       "    <tr style=\"text-align: right;\">\n",
       "      <th></th>\n",
       "      <th>Temperature</th>\n",
       "      <th>RH</th>\n",
       "      <th>Ws</th>\n",
       "      <th>Rain</th>\n",
       "      <th>FFMC</th>\n",
       "      <th>DMC</th>\n",
       "      <th>DC</th>\n",
       "      <th>ISI</th>\n",
       "      <th>BUI</th>\n",
       "      <th>FWI</th>\n",
       "      <th>Classes</th>\n",
       "      <th>Region</th>\n",
       "    </tr>\n",
       "  </thead>\n",
       "  <tbody>\n",
       "    <tr>\n",
       "      <th>237</th>\n",
       "      <td>30</td>\n",
       "      <td>65</td>\n",
       "      <td>14</td>\n",
       "      <td>0.0</td>\n",
       "      <td>85.4</td>\n",
       "      <td>16.0</td>\n",
       "      <td>44.5</td>\n",
       "      <td>4.5</td>\n",
       "      <td>16.9</td>\n",
       "      <td>6.5</td>\n",
       "      <td>1</td>\n",
       "      <td>1</td>\n",
       "    </tr>\n",
       "    <tr>\n",
       "      <th>238</th>\n",
       "      <td>28</td>\n",
       "      <td>87</td>\n",
       "      <td>15</td>\n",
       "      <td>4.4</td>\n",
       "      <td>41.1</td>\n",
       "      <td>6.5</td>\n",
       "      <td>8.0</td>\n",
       "      <td>0.1</td>\n",
       "      <td>6.2</td>\n",
       "      <td>0.0</td>\n",
       "      <td>0</td>\n",
       "      <td>1</td>\n",
       "    </tr>\n",
       "    <tr>\n",
       "      <th>239</th>\n",
       "      <td>27</td>\n",
       "      <td>87</td>\n",
       "      <td>29</td>\n",
       "      <td>0.5</td>\n",
       "      <td>45.9</td>\n",
       "      <td>3.5</td>\n",
       "      <td>7.9</td>\n",
       "      <td>0.4</td>\n",
       "      <td>3.4</td>\n",
       "      <td>0.2</td>\n",
       "      <td>0</td>\n",
       "      <td>1</td>\n",
       "    </tr>\n",
       "    <tr>\n",
       "      <th>240</th>\n",
       "      <td>24</td>\n",
       "      <td>54</td>\n",
       "      <td>18</td>\n",
       "      <td>0.1</td>\n",
       "      <td>79.7</td>\n",
       "      <td>4.3</td>\n",
       "      <td>15.2</td>\n",
       "      <td>1.7</td>\n",
       "      <td>5.1</td>\n",
       "      <td>0.7</td>\n",
       "      <td>0</td>\n",
       "      <td>1</td>\n",
       "    </tr>\n",
       "    <tr>\n",
       "      <th>241</th>\n",
       "      <td>24</td>\n",
       "      <td>64</td>\n",
       "      <td>15</td>\n",
       "      <td>0.2</td>\n",
       "      <td>67.3</td>\n",
       "      <td>3.8</td>\n",
       "      <td>16.5</td>\n",
       "      <td>1.2</td>\n",
       "      <td>4.8</td>\n",
       "      <td>0.5</td>\n",
       "      <td>0</td>\n",
       "      <td>1</td>\n",
       "    </tr>\n",
       "  </tbody>\n",
       "</table>\n",
       "</div>"
      ],
      "text/plain": [
       "     Temperature  RH  Ws  Rain  FFMC   DMC    DC  ISI   BUI  FWI  Classes  \\\n",
       "237           30  65  14   0.0  85.4  16.0  44.5  4.5  16.9  6.5        1   \n",
       "238           28  87  15   4.4  41.1   6.5   8.0  0.1   6.2  0.0        0   \n",
       "239           27  87  29   0.5  45.9   3.5   7.9  0.4   3.4  0.2        0   \n",
       "240           24  54  18   0.1  79.7   4.3  15.2  1.7   5.1  0.7        0   \n",
       "241           24  64  15   0.2  67.3   3.8  16.5  1.2   4.8  0.5        0   \n",
       "\n",
       "     Region  \n",
       "237       1  \n",
       "238       1  \n",
       "239       1  \n",
       "240       1  \n",
       "241       1  "
      ]
     },
     "execution_count": 8,
     "metadata": {},
     "output_type": "execute_result"
    }
   ],
   "source": [
    "df.tail()"
   ]
  },
  {
   "cell_type": "code",
   "execution_count": 9,
   "id": "f4fdeb7b-c731-44ed-ade8-4c7a95c1610f",
   "metadata": {},
   "outputs": [],
   "source": [
    "# Independent feature and dependent feature\n",
    "X= df.drop('FWI',axis=1)\n",
    "y=df['FWI']"
   ]
  },
  {
   "cell_type": "code",
   "execution_count": 10,
   "id": "a19aacda-9fe3-4900-8a67-cfa40f165f03",
   "metadata": {},
   "outputs": [
    {
     "data": {
      "text/html": [
       "<div>\n",
       "<style scoped>\n",
       "    .dataframe tbody tr th:only-of-type {\n",
       "        vertical-align: middle;\n",
       "    }\n",
       "\n",
       "    .dataframe tbody tr th {\n",
       "        vertical-align: top;\n",
       "    }\n",
       "\n",
       "    .dataframe thead th {\n",
       "        text-align: right;\n",
       "    }\n",
       "</style>\n",
       "<table border=\"1\" class=\"dataframe\">\n",
       "  <thead>\n",
       "    <tr style=\"text-align: right;\">\n",
       "      <th></th>\n",
       "      <th>Temperature</th>\n",
       "      <th>RH</th>\n",
       "      <th>Ws</th>\n",
       "      <th>Rain</th>\n",
       "      <th>FFMC</th>\n",
       "      <th>DMC</th>\n",
       "      <th>DC</th>\n",
       "      <th>ISI</th>\n",
       "      <th>BUI</th>\n",
       "      <th>Classes</th>\n",
       "      <th>Region</th>\n",
       "    </tr>\n",
       "  </thead>\n",
       "  <tbody>\n",
       "    <tr>\n",
       "      <th>0</th>\n",
       "      <td>29</td>\n",
       "      <td>61</td>\n",
       "      <td>13</td>\n",
       "      <td>1.3</td>\n",
       "      <td>64.4</td>\n",
       "      <td>4.1</td>\n",
       "      <td>7.6</td>\n",
       "      <td>1.0</td>\n",
       "      <td>3.9</td>\n",
       "      <td>0</td>\n",
       "      <td>0</td>\n",
       "    </tr>\n",
       "    <tr>\n",
       "      <th>1</th>\n",
       "      <td>26</td>\n",
       "      <td>82</td>\n",
       "      <td>22</td>\n",
       "      <td>13.1</td>\n",
       "      <td>47.1</td>\n",
       "      <td>2.5</td>\n",
       "      <td>7.1</td>\n",
       "      <td>0.3</td>\n",
       "      <td>2.7</td>\n",
       "      <td>0</td>\n",
       "      <td>0</td>\n",
       "    </tr>\n",
       "    <tr>\n",
       "      <th>2</th>\n",
       "      <td>25</td>\n",
       "      <td>89</td>\n",
       "      <td>13</td>\n",
       "      <td>2.5</td>\n",
       "      <td>28.6</td>\n",
       "      <td>1.3</td>\n",
       "      <td>6.9</td>\n",
       "      <td>0.0</td>\n",
       "      <td>1.7</td>\n",
       "      <td>0</td>\n",
       "      <td>0</td>\n",
       "    </tr>\n",
       "    <tr>\n",
       "      <th>3</th>\n",
       "      <td>27</td>\n",
       "      <td>77</td>\n",
       "      <td>16</td>\n",
       "      <td>0.0</td>\n",
       "      <td>64.8</td>\n",
       "      <td>3.0</td>\n",
       "      <td>14.2</td>\n",
       "      <td>1.2</td>\n",
       "      <td>3.9</td>\n",
       "      <td>0</td>\n",
       "      <td>0</td>\n",
       "    </tr>\n",
       "    <tr>\n",
       "      <th>4</th>\n",
       "      <td>31</td>\n",
       "      <td>67</td>\n",
       "      <td>14</td>\n",
       "      <td>0.0</td>\n",
       "      <td>82.6</td>\n",
       "      <td>5.8</td>\n",
       "      <td>22.2</td>\n",
       "      <td>3.1</td>\n",
       "      <td>7.0</td>\n",
       "      <td>1</td>\n",
       "      <td>0</td>\n",
       "    </tr>\n",
       "  </tbody>\n",
       "</table>\n",
       "</div>"
      ],
      "text/plain": [
       "   Temperature  RH  Ws  Rain  FFMC  DMC    DC  ISI  BUI  Classes  Region\n",
       "0           29  61  13   1.3  64.4  4.1   7.6  1.0  3.9        0       0\n",
       "1           26  82  22  13.1  47.1  2.5   7.1  0.3  2.7        0       0\n",
       "2           25  89  13   2.5  28.6  1.3   6.9  0.0  1.7        0       0\n",
       "3           27  77  16   0.0  64.8  3.0  14.2  1.2  3.9        0       0\n",
       "4           31  67  14   0.0  82.6  5.8  22.2  3.1  7.0        1       0"
      ]
     },
     "execution_count": 10,
     "metadata": {},
     "output_type": "execute_result"
    }
   ],
   "source": [
    "X.head()"
   ]
  },
  {
   "cell_type": "code",
   "execution_count": 11,
   "id": "62262dde-c29e-4762-afc6-d98a8f29b0c4",
   "metadata": {},
   "outputs": [
    {
     "data": {
      "text/plain": [
       "0    0.4\n",
       "1    0.1\n",
       "2    0.0\n",
       "3    0.5\n",
       "4    2.5\n",
       "Name: FWI, dtype: float64"
      ]
     },
     "execution_count": 11,
     "metadata": {},
     "output_type": "execute_result"
    }
   ],
   "source": [
    "y.head()"
   ]
  },
  {
   "cell_type": "code",
   "execution_count": 12,
   "id": "13edee6e-241b-4610-8338-455d87bc5994",
   "metadata": {},
   "outputs": [],
   "source": [
    "# Test Train split_)\n",
    "from sklearn.model_selection import train_test_split\n",
    "X_train,X_test,y_train,y_test= train_test_split(X,y,test_size=0.25,random_state=43)"
   ]
  },
  {
   "cell_type": "code",
   "execution_count": 13,
   "id": "12c1c769-8326-4546-bf11-ec7278a34206",
   "metadata": {},
   "outputs": [
    {
     "data": {
      "text/plain": [
       "((181, 11), (61, 11))"
      ]
     },
     "execution_count": 13,
     "metadata": {},
     "output_type": "execute_result"
    }
   ],
   "source": [
    "X_train.shape, X_test.shape"
   ]
  },
  {
   "cell_type": "code",
   "execution_count": 14,
   "id": "dd110d7e-3a7f-4d31-ac34-5d22d2614d32",
   "metadata": {},
   "outputs": [
    {
     "data": {
      "text/html": [
       "<div>\n",
       "<style scoped>\n",
       "    .dataframe tbody tr th:only-of-type {\n",
       "        vertical-align: middle;\n",
       "    }\n",
       "\n",
       "    .dataframe tbody tr th {\n",
       "        vertical-align: top;\n",
       "    }\n",
       "\n",
       "    .dataframe thead th {\n",
       "        text-align: right;\n",
       "    }\n",
       "</style>\n",
       "<table border=\"1\" class=\"dataframe\">\n",
       "  <thead>\n",
       "    <tr style=\"text-align: right;\">\n",
       "      <th></th>\n",
       "      <th>Temperature</th>\n",
       "      <th>RH</th>\n",
       "      <th>Ws</th>\n",
       "      <th>Rain</th>\n",
       "      <th>FFMC</th>\n",
       "      <th>DMC</th>\n",
       "      <th>DC</th>\n",
       "      <th>ISI</th>\n",
       "      <th>BUI</th>\n",
       "      <th>Classes</th>\n",
       "      <th>Region</th>\n",
       "    </tr>\n",
       "  </thead>\n",
       "  <tbody>\n",
       "    <tr>\n",
       "      <th>Temperature</th>\n",
       "      <td>1.000000</td>\n",
       "      <td>-0.649212</td>\n",
       "      <td>-0.306610</td>\n",
       "      <td>-0.342352</td>\n",
       "      <td>0.696418</td>\n",
       "      <td>0.488493</td>\n",
       "      <td>0.354112</td>\n",
       "      <td>0.596025</td>\n",
       "      <td>0.452688</td>\n",
       "      <td>0.517945</td>\n",
       "      <td>0.312217</td>\n",
       "    </tr>\n",
       "    <tr>\n",
       "      <th>RH</th>\n",
       "      <td>-0.649212</td>\n",
       "      <td>1.000000</td>\n",
       "      <td>0.293068</td>\n",
       "      <td>0.225081</td>\n",
       "      <td>-0.643462</td>\n",
       "      <td>-0.377754</td>\n",
       "      <td>-0.183621</td>\n",
       "      <td>-0.665517</td>\n",
       "      <td>-0.316867</td>\n",
       "      <td>-0.410319</td>\n",
       "      <td>-0.442479</td>\n",
       "    </tr>\n",
       "    <tr>\n",
       "      <th>Ws</th>\n",
       "      <td>-0.306610</td>\n",
       "      <td>0.293068</td>\n",
       "      <td>1.000000</td>\n",
       "      <td>0.194909</td>\n",
       "      <td>-0.206781</td>\n",
       "      <td>-0.027777</td>\n",
       "      <td>0.047542</td>\n",
       "      <td>-0.016645</td>\n",
       "      <td>0.002729</td>\n",
       "      <td>-0.094631</td>\n",
       "      <td>-0.185698</td>\n",
       "    </tr>\n",
       "    <tr>\n",
       "      <th>Rain</th>\n",
       "      <td>-0.342352</td>\n",
       "      <td>0.225081</td>\n",
       "      <td>0.194909</td>\n",
       "      <td>1.000000</td>\n",
       "      <td>-0.565765</td>\n",
       "      <td>-0.276526</td>\n",
       "      <td>-0.290184</td>\n",
       "      <td>-0.339609</td>\n",
       "      <td>-0.289291</td>\n",
       "      <td>-0.371202</td>\n",
       "      <td>-0.048390</td>\n",
       "    </tr>\n",
       "    <tr>\n",
       "      <th>FFMC</th>\n",
       "      <td>0.696418</td>\n",
       "      <td>-0.643462</td>\n",
       "      <td>-0.206781</td>\n",
       "      <td>-0.565765</td>\n",
       "      <td>1.000000</td>\n",
       "      <td>0.587338</td>\n",
       "      <td>0.484830</td>\n",
       "      <td>0.735891</td>\n",
       "      <td>0.574606</td>\n",
       "      <td>0.768698</td>\n",
       "      <td>0.217936</td>\n",
       "    </tr>\n",
       "    <tr>\n",
       "      <th>DMC</th>\n",
       "      <td>0.488493</td>\n",
       "      <td>-0.377754</td>\n",
       "      <td>-0.027777</td>\n",
       "      <td>-0.276526</td>\n",
       "      <td>0.587338</td>\n",
       "      <td>1.000000</td>\n",
       "      <td>0.873449</td>\n",
       "      <td>0.666582</td>\n",
       "      <td>0.981337</td>\n",
       "      <td>0.551722</td>\n",
       "      <td>0.222566</td>\n",
       "    </tr>\n",
       "    <tr>\n",
       "      <th>DC</th>\n",
       "      <td>0.354112</td>\n",
       "      <td>-0.183621</td>\n",
       "      <td>0.047542</td>\n",
       "      <td>-0.290184</td>\n",
       "      <td>0.484830</td>\n",
       "      <td>0.873449</td>\n",
       "      <td>1.000000</td>\n",
       "      <td>0.481225</td>\n",
       "      <td>0.939215</td>\n",
       "      <td>0.456461</td>\n",
       "      <td>-0.064581</td>\n",
       "    </tr>\n",
       "    <tr>\n",
       "      <th>ISI</th>\n",
       "      <td>0.596025</td>\n",
       "      <td>-0.665517</td>\n",
       "      <td>-0.016645</td>\n",
       "      <td>-0.339609</td>\n",
       "      <td>0.735891</td>\n",
       "      <td>0.666582</td>\n",
       "      <td>0.481225</td>\n",
       "      <td>1.000000</td>\n",
       "      <td>0.626557</td>\n",
       "      <td>0.727365</td>\n",
       "      <td>0.283707</td>\n",
       "    </tr>\n",
       "    <tr>\n",
       "      <th>BUI</th>\n",
       "      <td>0.452688</td>\n",
       "      <td>-0.316867</td>\n",
       "      <td>0.002729</td>\n",
       "      <td>-0.289291</td>\n",
       "      <td>0.574606</td>\n",
       "      <td>0.981337</td>\n",
       "      <td>0.939215</td>\n",
       "      <td>0.626557</td>\n",
       "      <td>1.000000</td>\n",
       "      <td>0.547901</td>\n",
       "      <td>0.114476</td>\n",
       "    </tr>\n",
       "    <tr>\n",
       "      <th>Classes</th>\n",
       "      <td>0.517945</td>\n",
       "      <td>-0.410319</td>\n",
       "      <td>-0.094631</td>\n",
       "      <td>-0.371202</td>\n",
       "      <td>0.768698</td>\n",
       "      <td>0.551722</td>\n",
       "      <td>0.456461</td>\n",
       "      <td>0.727365</td>\n",
       "      <td>0.547901</td>\n",
       "      <td>1.000000</td>\n",
       "      <td>0.141156</td>\n",
       "    </tr>\n",
       "    <tr>\n",
       "      <th>Region</th>\n",
       "      <td>0.312217</td>\n",
       "      <td>-0.442479</td>\n",
       "      <td>-0.185698</td>\n",
       "      <td>-0.048390</td>\n",
       "      <td>0.217936</td>\n",
       "      <td>0.222566</td>\n",
       "      <td>-0.064581</td>\n",
       "      <td>0.283707</td>\n",
       "      <td>0.114476</td>\n",
       "      <td>0.141156</td>\n",
       "      <td>1.000000</td>\n",
       "    </tr>\n",
       "  </tbody>\n",
       "</table>\n",
       "</div>"
      ],
      "text/plain": [
       "             Temperature        RH        Ws      Rain      FFMC       DMC  \\\n",
       "Temperature     1.000000 -0.649212 -0.306610 -0.342352  0.696418  0.488493   \n",
       "RH             -0.649212  1.000000  0.293068  0.225081 -0.643462 -0.377754   \n",
       "Ws             -0.306610  0.293068  1.000000  0.194909 -0.206781 -0.027777   \n",
       "Rain           -0.342352  0.225081  0.194909  1.000000 -0.565765 -0.276526   \n",
       "FFMC            0.696418 -0.643462 -0.206781 -0.565765  1.000000  0.587338   \n",
       "DMC             0.488493 -0.377754 -0.027777 -0.276526  0.587338  1.000000   \n",
       "DC              0.354112 -0.183621  0.047542 -0.290184  0.484830  0.873449   \n",
       "ISI             0.596025 -0.665517 -0.016645 -0.339609  0.735891  0.666582   \n",
       "BUI             0.452688 -0.316867  0.002729 -0.289291  0.574606  0.981337   \n",
       "Classes         0.517945 -0.410319 -0.094631 -0.371202  0.768698  0.551722   \n",
       "Region          0.312217 -0.442479 -0.185698 -0.048390  0.217936  0.222566   \n",
       "\n",
       "                   DC       ISI       BUI   Classes    Region  \n",
       "Temperature  0.354112  0.596025  0.452688  0.517945  0.312217  \n",
       "RH          -0.183621 -0.665517 -0.316867 -0.410319 -0.442479  \n",
       "Ws           0.047542 -0.016645  0.002729 -0.094631 -0.185698  \n",
       "Rain        -0.290184 -0.339609 -0.289291 -0.371202 -0.048390  \n",
       "FFMC         0.484830  0.735891  0.574606  0.768698  0.217936  \n",
       "DMC          0.873449  0.666582  0.981337  0.551722  0.222566  \n",
       "DC           1.000000  0.481225  0.939215  0.456461 -0.064581  \n",
       "ISI          0.481225  1.000000  0.626557  0.727365  0.283707  \n",
       "BUI          0.939215  0.626557  1.000000  0.547901  0.114476  \n",
       "Classes      0.456461  0.727365  0.547901  1.000000  0.141156  \n",
       "Region      -0.064581  0.283707  0.114476  0.141156  1.000000  "
      ]
     },
     "execution_count": 14,
     "metadata": {},
     "output_type": "execute_result"
    }
   ],
   "source": [
    "X_train.corr()"
   ]
  },
  {
   "cell_type": "markdown",
   "id": "60b868c6-6fce-484c-89dd-3da5ea9d6d99",
   "metadata": {},
   "source": [
    "#### Lets check multicollinearity- ( If two or more than two independent features are approx 95% collinear with each other then instead using all those features we use one feature as they are 95%(here this value is threshold value) collinear that's how feature selection is done. )"
   ]
  },
  {
   "cell_type": "code",
   "execution_count": 15,
   "id": "66df30c5-a685-4a71-8c32-6a3bc8e8fda5",
   "metadata": {},
   "outputs": [
    {
     "data": {
      "text/plain": [
       "<AxesSubplot: >"
      ]
     },
     "execution_count": 15,
     "metadata": {},
     "output_type": "execute_result"
    },
    {
     "data": {
      "image/png": "[encoded data removed]",
      "text/plain": [
       "<Figure size 640x480 with 2 Axes>"
      ]
     },
     "metadata": {},
     "output_type": "display_data"
    }
   ],
   "source": [
    "## multicollinearity\n",
    "corr= X_train.corr()\n",
    "sns.heatmap(corr,annot=True)"
   ]
  },
  {
   "cell_type": "code",
   "execution_count": 16,
   "id": "2115d641-4dc6-41ce-911d-99878d800569",
   "metadata": {},
   "outputs": [],
   "source": [
    "def correlation(dataset, threshold):\n",
    "    col_corr= set()\n",
    "    corr_matrix= dataset.corr()\n",
    "    for i in range(len(corr_matrix.columns)):\n",
    "        for j in range(i):\n",
    "            if abs(corr_matrix.iloc[i,j])> threshold:\n",
    "                colname= corr_matrix.columns[i]\n",
    "                col_corr.add(colname)\n",
    "    return col_corr"
   ]
  },
  {
   "cell_type": "code",
   "execution_count": 17,
   "id": "8ab7edf9-d376-442b-a7c3-6303819084b4",
   "metadata": {},
   "outputs": [],
   "source": [
    "corr_feature=correlation(X_train,0.85)"
   ]
  },
  {
   "cell_type": "code",
   "execution_count": 18,
   "id": "ac9f6f63-6a56-4b73-aca5-50f0d0b0c9b4",
   "metadata": {},
   "outputs": [
    {
     "data": {
      "text/plain": [
       "{'BUI', 'DC'}"
      ]
     },
     "execution_count": 18,
     "metadata": {},
     "output_type": "execute_result"
    }
   ],
   "source": [
    "corr_feature"
   ]
  },
  {
   "cell_type": "code",
   "execution_count": 19,
   "id": "b1c91a34-6356-4f53-a4ca-3f5ad3e0bd54",
   "metadata": {},
   "outputs": [
    {
     "data": {
      "text/plain": [
       "((181, 9), (61, 9))"
      ]
     },
     "execution_count": 19,
     "metadata": {},
     "output_type": "execute_result"
    }
   ],
   "source": [
    "X_train.drop(corr_feature,axis=1,inplace=True)\n",
    "X_test.drop(corr_feature, axis=1, inplace= True)\n",
    "X_train.shape,X_test.shape"
   ]
  },
  {
   "cell_type": "markdown",
   "id": "ee05eecc-c420-4134-91bb-2320df710b5a",
   "metadata": {},
   "source": [
    "## Featur Scaling or Standardization"
   ]
  },
  {
   "cell_type": "code",
   "execution_count": 20,
   "id": "7a4d0aac-2ee9-419c-b9fa-755c8640d8ba",
   "metadata": {},
   "outputs": [],
   "source": [
    "from sklearn.preprocessing import StandardScaler"
   ]
  },
  {
   "cell_type": "code",
   "execution_count": 48,
   "id": "7c3eda03-a534-49ad-8f85-7ccfe609fc6b",
   "metadata": {},
   "outputs": [],
   "source": [
    "STscaler= StandardScaler()"
   ]
  },
  {
   "cell_type": "code",
   "execution_count": 49,
   "id": "d2eda2f7-5480-4260-840c-59e754d86c01",
   "metadata": {},
   "outputs": [],
   "source": [
    "X_train_scaled= STscaler.fit_transform(X_train)\n",
    "X_test_scaled= STscaler.transform(X_test)"
   ]
  },
  {
   "cell_type": "code",
   "execution_count": 23,
   "id": "afc145fc-6676-4359-be55-770a9912e78f",
   "metadata": {},
   "outputs": [
    {
     "data": {
      "text/plain": [
       "array([[ 1.03515991, -0.59254393,  0.20340534, ...,  1.40684086,\n",
       "         0.84115823, -0.99449032],\n",
       "       [-0.60120641,  0.1685883 , -0.47837923, ..., -0.64246055,\n",
       "        -1.18883697,  1.00554021],\n",
       "       [ 0.48970447, -1.14609464,  0.88518991, ...,  1.63176418,\n",
       "         0.84115823,  1.00554021],\n",
       "       ...,\n",
       "       [ 0.21697675,  0.58375134,  0.54429763, ...,  0.10728387,\n",
       "         0.84115823, -0.99449032],\n",
       "       [ 0.48970447,  0.23778214, -0.81927151, ...,  0.10728387,\n",
       "         0.84115823, -0.99449032],\n",
       "       [ 0.76243219, -0.17738089,  0.54429763, ...,  0.53213904,\n",
       "         0.84115823, -0.99449032]])"
      ]
     },
     "execution_count": 23,
     "metadata": {},
     "output_type": "execute_result"
    }
   ],
   "source": [
    "X_train_scaled"
   ]
  },
  {
   "cell_type": "markdown",
   "id": "6fd7b753-035b-4047-a626-d545cff4d7a5",
   "metadata": {},
   "source": [
    "## Box Plots to understand the effect of standard scaler"
   ]
  },
  {
   "cell_type": "code",
   "execution_count": 24,
   "id": "582678c0-7b2e-450d-b7a6-d00450df53b3",
   "metadata": {},
   "outputs": [
    {
     "name": "stderr",
     "output_type": "stream",
     "text": [
      "/tmp/ipykernel_77/70787582.py:2: MatplotlibDeprecationWarning: Auto-removal of overlapping axes is deprecated since 3.6 and will be removed two minor releases later; explicitly call ax.remove() as needed.\n",
      "  plt.subplot(1,2,1)\n",
      "/tmp/ipykernel_77/70787582.py:5: MatplotlibDeprecationWarning: Auto-removal of overlapping axes is deprecated since 3.6 and will be removed two minor releases later; explicitly call ax.remove() as needed.\n",
      "  plt.subplot(1,2,2)\n"
     ]
    },
    {
     "data": {
      "text/plain": [
       "<AxesSubplot: >"
      ]
     },
     "execution_count": 24,
     "metadata": {},
     "output_type": "execute_result"
    },
    {
     "data": {
      "image/png": "[encoded data removed]",
      "text/plain": [
       "<Figure size 1500x500 with 1 Axes>"
      ]
     },
     "metadata": {},
     "output_type": "display_data"
    },
    {
     "data": {
      "image/png": "[encoded data removed]",
      "text/plain": [
       "<Figure size 1500x500 with 1 Axes>"
      ]
     },
     "metadata": {},
     "output_type": "display_data"
    }
   ],
   "source": [
    "plt.subplots(figsize=(15,5))\n",
    "plt.subplot(1,2,1)\n",
    "sns.boxplot(data=X_train)\n",
    "plt.subplots(figsize=(15,5))\n",
    "plt.subplot(1,2,2)\n",
    "sns.boxplot(data=X_train_scaled)"
   ]
  },
  {
   "cell_type": "markdown",
   "id": "a73c0452-c16d-4dfd-b6c2-fba5b787bfdc",
   "metadata": {},
   "source": [
    "## Linear Regression"
   ]
  },
  {
   "cell_type": "code",
   "execution_count": 25,
   "id": "fbd4df53-c823-48dc-a1ae-80bb6e0ddf53",
   "metadata": {},
   "outputs": [],
   "source": [
    "from sklearn.linear_model import LinearRegression"
   ]
  },
  {
   "cell_type": "code",
   "execution_count": 26,
   "id": "849368d3-a077-4a7e-bb30-714b6e1b0ed4",
   "metadata": {},
   "outputs": [],
   "source": [
    "linreg= LinearRegression()"
   ]
  },
  {
   "cell_type": "code",
   "execution_count": 30,
   "id": "d091bb46-7330-4f06-add3-e766af2aacab",
   "metadata": {},
   "outputs": [],
   "source": [
    "linreg.fit(X_train_scaled,y_train)\n",
    "y_pred=linreg.predict(X_test_scaled)"
   ]
  },
  {
   "cell_type": "code",
   "execution_count": 31,
   "id": "845c0e97-0fb9-4ed4-acb5-7631e0a3cbae",
   "metadata": {},
   "outputs": [],
   "source": [
    "from sklearn.metrics import mean_absolute_error, r2_score"
   ]
  },
  {
   "cell_type": "code",
   "execution_count": 32,
   "id": "b1281af4-b83e-423b-bf2d-3e42517b0186",
   "metadata": {},
   "outputs": [
    {
     "name": "stdout",
     "output_type": "stream",
     "text": [
      "Mean absolute error 0.709354342865637\n",
      "R2 Score 0.9862344751727082\n"
     ]
    }
   ],
   "source": [
    "mae=mean_absolute_error(y_test, y_pred)\n",
    "score= r2_score(y_test, y_pred)\n",
    "print('Mean absolute error',mae)\n",
    "print('R2 Score',score)"
   ]
  },
  {
   "cell_type": "markdown",
   "id": "6e4f4355-efcc-4e5b-8b73-4e45af177f61",
   "metadata": {},
   "source": [
    "## Lasso Regression"
   ]
  },
  {
   "cell_type": "code",
   "execution_count": 34,
   "id": "12f16295-7a7c-4463-9297-b3647ea68756",
   "metadata": {},
   "outputs": [],
   "source": [
    "from sklearn.linear_model import Lasso"
   ]
  },
  {
   "cell_type": "code",
   "execution_count": 36,
   "id": "93fc6b70-5d5e-4812-bcdd-70190e78c2af",
   "metadata": {},
   "outputs": [
    {
     "name": "stdout",
     "output_type": "stream",
     "text": [
      "Mean absolute error 1.2987190801901696\n",
      "R2 Score 0.9489078933419415\n"
     ]
    }
   ],
   "source": [
    "lasso= Lasso()\n",
    "lasso.fit(X_train_scaled,y_train)\n",
    "y_predl= lasso.predict(X_test_scaled)\n",
    "meal= mean_absolute_error(y_test, y_predl)\n",
    "scorel= r2_score(y_test, y_predl)\n",
    "print('Mean absolute error',meal)\n",
    "print('R2 Score',scorel)"
   ]
  },
  {
   "cell_type": "markdown",
   "id": "481d31c0-0827-4b12-b909-a8cb8bfed5ae",
   "metadata": {},
   "source": [
    "## Ridge Regression Model"
   ]
  },
  {
   "cell_type": "code",
   "execution_count": 37,
   "id": "05081839-6bab-46fb-b08e-67ed3a90b875",
   "metadata": {},
   "outputs": [],
   "source": [
    "from sklearn.linear_model import Ridge"
   ]
  },
  {
   "cell_type": "code",
   "execution_count": 40,
   "id": "07b32398-a6dd-4648-9d1e-1d914eebeffd",
   "metadata": {},
   "outputs": [
    {
     "data": {
      "text/html": [
       "<style>#sk-container-id-1 {color: black;background-color: white;}#sk-container-id-1 pre{padding: 0;}#sk-container-id-1 div.sk-toggleable {background-color: white;}#sk-container-id-1 label.sk-toggleable__label {cursor: pointer;display: block;width: 100%;margin-bottom: 0;padding: 0.3em;box-sizing: border-box;text-align: center;}#sk-container-id-1 label.sk-toggleable__label-arrow:before {content: \"▸\";float: left;margin-right: 0.25em;color: #696969;}#sk-container-id-1 label.sk-toggleable__label-arrow:hover:before {color: black;}#sk-container-id-1 div.sk-estimator:hover label.sk-toggleable__label-arrow:before {color: black;}#sk-container-id-1 div.sk-toggleable__content {max-height: 0;max-width: 0;overflow: hidden;text-align: left;background-color: #f0f8ff;}#sk-container-id-1 div.sk-toggleable__content pre {margin: 0.2em;color: black;border-radius: 0.25em;background-color: #f0f8ff;}#sk-container-id-1 input.sk-toggleable__control:checked~div.sk-toggleable__content {max-height: 200px;max-width: 100%;overflow: auto;}#sk-container-id-1 input.sk-toggleable__control:checked~label.sk-toggleable__label-arrow:before {content: \"▾\";}#sk-container-id-1 div.sk-estimator input.sk-toggleable__control:checked~label.sk-toggleable__label {background-color: #d4ebff;}#sk-container-id-1 div.sk-label input.sk-toggleable__control:checked~label.sk-toggleable__label {background-color: #d4ebff;}#sk-container-id-1 input.sk-hidden--visually {border: 0;clip: rect(1px 1px 1px 1px);clip: rect(1px, 1px, 1px, 1px);height: 1px;margin: -1px;overflow: hidden;padding: 0;position: absolute;width: 1px;}#sk-container-id-1 div.sk-estimator {font-family: monospace;background-color: #f0f8ff;border: 1px dotted black;border-radius: 0.25em;box-sizing: border-box;margin-bottom: 0.5em;}#sk-container-id-1 div.sk-estimator:hover {background-color: #d4ebff;}#sk-container-id-1 div.sk-parallel-item::after {content: \"\";width: 100%;border-bottom: 1px solid gray;flex-grow: 1;}#sk-container-id-1 div.sk-label:hover label.sk-toggleable__label {background-color: #d4ebff;}#sk-container-id-1 div.sk-serial::before {content: \"\";position: absolute;border-left: 1px solid gray;box-sizing: border-box;top: 0;bottom: 0;left: 50%;z-index: 0;}#sk-container-id-1 div.sk-serial {display: flex;flex-direction: column;align-items: center;background-color: white;padding-right: 0.2em;padding-left: 0.2em;position: relative;}#sk-container-id-1 div.sk-item {position: relative;z-index: 1;}#sk-container-id-1 div.sk-parallel {display: flex;align-items: stretch;justify-content: center;background-color: white;position: relative;}#sk-container-id-1 div.sk-item::before, #sk-container-id-1 div.sk-parallel-item::before {content: \"\";position: absolute;border-left: 1px solid gray;box-sizing: border-box;top: 0;bottom: 0;left: 50%;z-index: -1;}#sk-container-id-1 div.sk-parallel-item {display: flex;flex-direction: column;z-index: 1;position: relative;background-color: white;}#sk-container-id-1 div.sk-parallel-item:first-child::after {align-self: flex-end;width: 50%;}#sk-container-id-1 div.sk-parallel-item:last-child::after {align-self: flex-start;width: 50%;}#sk-container-id-1 div.sk-parallel-item:only-child::after {width: 0;}#sk-container-id-1 div.sk-dashed-wrapped {border: 1px dashed gray;margin: 0 0.4em 0.5em 0.4em;box-sizing: border-box;padding-bottom: 0.4em;background-color: white;}#sk-container-id-1 div.sk-label label {font-family: monospace;font-weight: bold;display: inline-block;line-height: 1.2em;}#sk-container-id-1 div.sk-label-container {text-align: center;}#sk-container-id-1 div.sk-container {/* jupyter's `normalize.less` sets `[hidden] { display: none; }` but bootstrap.min.css set `[hidden] { display: none !important; }` so we also need the `!important` here to be able to override the default hidden behavior on the sphinx rendered scikit-learn.org. See: https://github.com/scikit-learn/scikit-learn/issues/21755 */display: inline-block !important;position: relative;}#sk-container-id-1 div.sk-text-repr-fallback {display: none;}</style><div id=\"sk-container-id-1\" class=\"sk-top-container\"><div class=\"sk-text-repr-fallback\"><pre>Ridge()</pre><b>In a Jupyter environment, please rerun this cell to show the HTML representation or trust the notebook. <br />On GitHub, the HTML representation is unable to render, please try loading this page with nbviewer.org.</b></div><div class=\"sk-container\" hidden><div class=\"sk-item\"><div class=\"sk-estimator sk-toggleable\"><input class=\"sk-toggleable__control sk-hidden--visually\" id=\"sk-estimator-id-1\" type=\"checkbox\" checked><label for=\"sk-estimator-id-1\" class=\"sk-toggleable__label sk-toggleable__label-arrow\">Ridge</label><div class=\"sk-toggleable__content\"><pre>Ridge()</pre></div></div></div></div></div>"
      ],
      "text/plain": [
       "Ridge()"
      ]
     },
     "execution_count": 40,
     "metadata": {},
     "output_type": "execute_result"
    }
   ],
   "source": [
    "ridge= Ridge()\n",
    "ridge.fit(X_train_scaled,y_train)"
   ]
  },
  {
   "cell_type": "code",
   "execution_count": 41,
   "id": "7d21bc53-979b-4529-a778-9ac32ac1954d",
   "metadata": {},
   "outputs": [
    {
     "name": "stdout",
     "output_type": "stream",
     "text": [
      "Mean absolute error 0.7184658694990539\n",
      "R2 Score 0.9858179648017553\n"
     ]
    }
   ],
   "source": [
    "y_predr= ridge.predict(X_test_scaled)\n",
    "mear= mean_absolute_error(y_test, y_predr)\n",
    "scorer= r2_score(y_test, y_predr)\n",
    "print('Mean absolute error',mear)\n",
    "print('R2 Score',scorer)"
   ]
  },
  {
   "cell_type": "markdown",
   "id": "cd0fc423-f477-4c15-869b-8b76887414c4",
   "metadata": {},
   "source": [
    "## Elasticnet Regression"
   ]
  },
  {
   "cell_type": "code",
   "execution_count": 43,
   "id": "ff9d5c05-be0c-4800-b899-662e91f158ef",
   "metadata": {},
   "outputs": [],
   "source": [
    "from sklearn.linear_model import ElasticNet"
   ]
  },
  {
   "cell_type": "code",
   "execution_count": 44,
   "id": "077b9718-1e19-4cf0-ac81-701f6b5978c5",
   "metadata": {},
   "outputs": [],
   "source": [
    "elsn= ElasticNet()"
   ]
  },
  {
   "cell_type": "code",
   "execution_count": 46,
   "id": "f570bfb5-7230-4b8d-ac1f-0659a2f950f0",
   "metadata": {},
   "outputs": [
    {
     "name": "stdout",
     "output_type": "stream",
     "text": [
      "Mean absolute error 1.9255765404545686\n",
      "R2 Score 0.8876188827500988\n"
     ]
    }
   ],
   "source": [
    "elsn.fit(X_train_scaled,y_train)\n",
    "y_prede=elsn.predict(X_test_scaled)\n",
    "meae= mean_absolute_error(y_test, y_prede)\n",
    "scoree= r2_score(y_test,y_prede)\n",
    "print('Mean absolute error',meae)\n",
    "print('R2 Score',scoree)"
   ]
  },
  {
   "cell_type": "markdown",
   "id": "e1c5d4bf-0bda-43aa-91c6-f69f880f0eae",
   "metadata": {},
   "source": [
    "## therefor classical Linear Regression is giving better r2 Scores"
   ]
  },
  {
   "cell_type": "markdown",
   "id": "bcf7ac79-fce7-4602-966e-2ddd3b23e5a2",
   "metadata": {},
   "source": [
    "### Now generating pickle file"
   ]
  },
  {
   "cell_type": "code",
   "execution_count": null,
   "id": "1c93c85b-920e-4bfd-a1d8-983addb00fad",
   "metadata": {},
   "outputs": [],
   "source": [
    "import pickle\n",
    "pickle.dump(STscaler,open("
   ]
  }
 ],
 "metadata": {
  "kernelspec": {
   "display_name": "Python 3 (ipykernel)",
   "language": "python",
   "name": "python3"
  },
  "language_info": {
   "codemirror_mode": {
    "name": "ipython",
    "version": 3
   },
   "file_extension": ".py",
   "mimetype": "text/x-python",
   "name": "python",
   "nbconvert_exporter": "python",
   "pygments_lexer": "ipython3",
   "version": "3.10.8"
  }
 },
 "nbformat": 4,
 "nbformat_minor": 5
}
